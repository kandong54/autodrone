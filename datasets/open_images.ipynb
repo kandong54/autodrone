{
  "nbformat": 4,
  "nbformat_minor": 0,
  "metadata": {
    "colab": {
      "name": "open_images.ipynb",
      "provenance": [],
      "collapsed_sections": [],
      "include_colab_link": true
    },
    "kernelspec": {
      "name": "python3",
      "display_name": "Python 3"
    },
    "language_info": {
      "name": "python"
    }
  },
  "cells": [
    {
      "cell_type": "markdown",
      "metadata": {
        "id": "view-in-github",
        "colab_type": "text"
      },
      "source": [
        "<a href=\"https://colab.research.google.com/github/kandong54/autodrone/blob/main/datasets/open_images.ipynb\" target=\"_parent\"><img src=\"https://colab.research.google.com/assets/colab-badge.svg\" alt=\"Open In Colab\"/></a>"
      ]
    },
    {
      "cell_type": "markdown",
      "source": [
        "# [Open Images Dataset V6](https://storage.googleapis.com/openimages/web/index.html) Flower Subset\n"
      ],
      "metadata": {
        "id": "9LdftQyNxEMo"
      }
    },
    {
      "cell_type": "markdown",
      "source": [
        "## TODO\n",
        "- Add [background images](https://github.com/ultralytics/yolov5/wiki/Tips-for-Best-Training-Results)\n",
        "> Background images are images with no objects that are added to a dataset to reduce False Positives (FP). We recommend about 0-10% background images to help reduce FPs (COCO has 1000 background images for reference, 1% of the total). No labels are required for background images.\n",
        "\n",
        "## Flower Subset\n",
        "72,001 images with flower bounding boxes:\n",
        "- Train: 62716\n",
        "- Test: 6949\n",
        "- Validation: 2336\n",
        "\n",
        "## Format\n",
        "- open-images-v6: FiftyOne format\n",
        "- yolov5: YOLOv5 format\n",
        "- tfrecords: TFRecords in TF Object Detection API format\n",
        "\n",
        "All files are stored in the [Shareddrives/AutoDrone/Datasets/open-images-v6](https://drive.google.com/drive/u/1/folders/1TWXl1o9qkUCKIFzYmzXsQfC7e4ZJeTnY).\n",
        "\n",
        "## Tools\n",
        "- [FiftyOne](https://voxel51.com/docs/fiftyone/)\n",
        "\n",
        "## Licenses\n",
        "- Open Images Dataset V6\n",
        "> The annotations are licensed by Google LLC under CC BY 4.0 license. The images are listed as having a CC BY 2.0 license. Note: while we tried to identify images that are licensed under a Creative Commons Attribution license, we make no representations or warranties regarding the license status of each image and you should verify the license for each image yourself."
      ],
      "metadata": {
        "id": "BsA-r7c5RCu-"
      }
    },
    {
      "cell_type": "markdown",
      "source": [
        "# Explore"
      ],
      "metadata": {
        "id": "6fyb7f-SS2xE"
      }
    },
    {
      "cell_type": "code",
      "execution_count": null,
      "metadata": {
        "id": "po_ePALQwoEC"
      },
      "outputs": [],
      "source": [
        "!pip install opencv-python-headless==4.5.4.60 fiftyone\n",
        "\n",
        "import fiftyone as fo\n",
        "import fiftyone.zoo as foz\n",
        "from google.colab import drive\n",
        "\n",
        "drive.mount('/content/drive')"
      ]
    },
    {
      "cell_type": "markdown",
      "source": [
        "Download zipped dataset and unzip it. \n",
        "\n",
        "This takes about 10 minutes."
      ],
      "metadata": {
        "id": "nYQQHTcjJ6Ee"
      }
    },
    {
      "cell_type": "code",
      "source": [
        "!rm -rf /root/fiftyone\n",
        "!mkdir /root/fiftyone\n",
        "!unzip -q drive/Shareddrives/AutoDrone/Datasets/open-images-v6/open-images-v6.zip -d /root/fiftyone"
      ],
      "metadata": {
        "id": "9r_NcZDZTKjG"
      },
      "execution_count": null,
      "outputs": []
    },
    {
      "cell_type": "markdown",
      "source": [
        "Load dataset.\n",
        "\n",
        "This takes about 15 minutes."
      ],
      "metadata": {
        "id": "dOfl582pKAZS"
      }
    },
    {
      "cell_type": "code",
      "source": [
        "# dataset directory\n",
        "# fo.config.dataset_zoo_dir = \"drive/Shareddrives/AutoDrone/Datasets/open-images-v6/\"\n",
        "\n",
        "dataset = foz.load_zoo_dataset(\n",
        "    \"open-images-v6\", \n",
        "    label_types=\"detections\", \n",
        "    classes = [\"Flower\"],\n",
        "    only_matching=True,\n",
        "    dataset_name=\"open-images-flower\",\n",
        ")"
      ],
      "metadata": {
        "id": "J8Q7Def-YA5-"
      },
      "execution_count": null,
      "outputs": []
    },
    {
      "cell_type": "code",
      "source": [
        "# explore\n",
        "session = fo.launch_app(dataset)"
      ],
      "metadata": {
        "id": "Cn8vIBwQYZ4a"
      },
      "execution_count": null,
      "outputs": []
    },
    {
      "cell_type": "markdown",
      "source": [
        "# Convert format"
      ],
      "metadata": {
        "id": "wezoBY8PhBMn"
      }
    },
    {
      "cell_type": "code",
      "source": [
        "# export_dir = \"./yolov5\"\n",
        "# label_field = \"detections\"\n",
        "# splits = [\"train\", \"test\", \"validation\"]\n",
        "# for split in splits:\n",
        "#     view = dataset.match_tags(split)\n",
        "#     view.export(\n",
        "#         export_dir=export_dir,\n",
        "#         split=split,\n",
        "#         classes=[\"Flower\"],\n",
        "#         dataset_type=fo.types.YOLOv5Dataset,\n",
        "#         label_field=label_field,\n",
        "#     )\n"
      ],
      "metadata": {
        "id": "bcD60RljhlN7"
      },
      "execution_count": null,
      "outputs": []
    },
    {
      "cell_type": "code",
      "source": [
        "# export_dir = \"./tfrecords\"\n",
        "# label_field = \"detections\"\n",
        "# splits = [\"train\", \"test\", \"validation\"]\n",
        "# for split in splits:\n",
        "#     view = dataset.match_tags(split)\n",
        "#     view.export(\n",
        "#         export_dir=export_dir,\n",
        "#         tf_records_path=split + \".tfrecords\",\n",
        "#         classes=[\"Flower\"],\n",
        "#         dataset_type=fo.types.TFObjectDetectionDataset,\n",
        "#         label_field=label_field,\n",
        "#     )\n"
      ],
      "metadata": {
        "id": "j69i3sb1hBiN"
      },
      "execution_count": null,
      "outputs": []
    }
  ]
}